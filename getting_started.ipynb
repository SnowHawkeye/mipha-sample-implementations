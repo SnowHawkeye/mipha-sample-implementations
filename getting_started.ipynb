{
 "cells": [
  {
   "metadata": {},
   "cell_type": "markdown",
   "source": [
    "# Getting started\n",
    "\n",
    "This notebook contains code samples to show the usage of the data and MIPHA implementations contained in this repository."
   ],
   "id": "f1a3896406c3a8ca"
  },
  {
   "metadata": {},
   "cell_type": "markdown",
   "source": [
    "## Installing requirements\n",
    "\n",
    "Refer to README.md for a guide on how to install the required dependencies to run this notebook."
   ],
   "id": "f403bad57af6f160"
  },
  {
   "metadata": {},
   "cell_type": "markdown",
   "source": [
    "## Datasets\n",
    "\n",
    "### Unzipping data\n",
    "The data was zipped for sharing over git, as the unzipped files are bigger than the recommended size. In total, the provided datasets should take under 150MB disk space.\n",
    "Execute the following cells to unpack the data from `g1g2_samples.zip` into the `data/` directory."
   ],
   "id": "7ad3cdb76ce54b87"
  },
  {
   "metadata": {
    "ExecuteTime": {
     "end_time": "2025-03-18T14:45:28.496262Z",
     "start_time": "2025-03-18T14:45:28.476708Z"
    }
   },
   "cell_type": "code",
   "source": [
    "import zipfile\n",
    "import os\n",
    "\n",
    "def unzip_file(zip_path, extract_to):\n",
    "    \"\"\"Unzips a file to the specified directory.\"\"\"\n",
    "    os.makedirs(extract_to, exist_ok=True)  # Ensure the output directory exists\n",
    "    with zipfile.ZipFile(zip_path, 'r') as zip_ref:\n",
    "        zip_ref.extractall(extract_to)\n",
    "        print(f\"Data extracted to {extract_to}.\")"
   ],
   "id": "37406cd4da4c90c9",
   "outputs": [],
   "execution_count": 21
  },
  {
   "metadata": {
    "ExecuteTime": {
     "end_time": "2025-03-18T14:45:30.150392Z",
     "start_time": "2025-03-18T14:45:29.948402Z"
    }
   },
   "cell_type": "code",
   "source": "unzip_file(\"data/g1g2_samples.zip\", \"data\")",
   "id": "e4421ecb2b345ada",
   "outputs": [
    {
     "name": "stdout",
     "output_type": "stream",
     "text": [
      "Data extracted to data.\n"
     ]
    }
   ],
   "execution_count": 22
  },
  {
   "metadata": {},
   "cell_type": "markdown",
   "source": [
    "### Opening data\n",
    "Each matrix is stored as a pickle file. All the given data sources correspond to 3D data of shape `(n_samples, n_timesteps, n_features)`.\n",
    "- `n_samples`: number of records in the data source.\n",
    "- `n_timesteps`: number of rows in each matrix (e.g. each row corresponds to one month).\n",
    "- `n_features`: number of columns in each matrix (e.g. each column corresponds to the results of one analysis over `n_timesteps` months).\n"
   ],
   "id": "606e699bddbafb9c"
  },
  {
   "metadata": {
    "ExecuteTime": {
     "end_time": "2025-03-18T14:45:32.811708Z",
     "start_time": "2025-03-18T14:45:32.789835Z"
    }
   },
   "cell_type": "code",
   "source": [
    "from pathlib import Path\n",
    "import pickle\n",
    "\n",
    "\n",
    "def save_pickle(dataframes, filename):\n",
    "    \"\"\"\n",
    "    :param dataframes: provided as a dictionary where keys are patient IDs\n",
    "    :param filename: file to save to\n",
    "    \"\"\"\n",
    "    print(f\"Saving data to {filename}...\")\n",
    "    with open(filename, \"wb\") as handle:\n",
    "        pickle.dump(dataframes, handle)\n",
    "    print(f\"Data successfully saved to {filename}\")\n",
    "\n",
    "\n",
    "def save_to_file(obj, filepath):\n",
    "    \"\"\"\n",
    "    Save object to file. If the given parent directory doesn't exist, create it.\n",
    "    :param obj: The object to save.\n",
    "    :param filepath: The path to save to.\n",
    "    \"\"\"\n",
    "    parent_dir = Path(filepath).parent  # Extract the parent directory\n",
    "    parent_dir.mkdir(parents=True, exist_ok=True)  # Create the parent directory if it doesn't exist\n",
    "    save_pickle(obj, filepath)\n",
    "\n",
    "\n",
    "def load_pickle(filename):\n",
    "    \"\"\"\n",
    "    :param filename: file to load data from\n",
    "    \"\"\"\n",
    "    print(f\"Loading data from {filename}...\")\n",
    "    with open(filename, \"rb\") as file:\n",
    "        result = pickle.load(file)\n",
    "        print(f\"Data successfully loaded from {filename}\")\n",
    "        return result"
   ],
   "id": "9db258c7aaa32be7",
   "outputs": [],
   "execution_count": 23
  },
  {
   "metadata": {
    "ExecuteTime": {
     "end_time": "2025-03-18T14:45:34.118264Z",
     "start_time": "2025-03-18T14:45:34.092162Z"
    }
   },
   "cell_type": "code",
   "source": [
    "matrix_path = f\"data/g1g2_samples/most_common_dataset/most_common_analyses.pkl\"\n",
    "matrix = load_pickle(matrix_path)\n",
    "print(matrix.shape)"
   ],
   "id": "84cbec88bb7ccbaf",
   "outputs": [
    {
     "name": "stdout",
     "output_type": "stream",
     "text": [
      "Loading data from data/g1g2_samples/most_common_dataset/most_common_analyses.pkl...\n",
      "Data successfully loaded from data/g1g2_samples/most_common_dataset/most_common_analyses.pkl\n",
      "(12250, 12, 27)\n"
     ]
    }
   ],
   "execution_count": 24
  },
  {
   "metadata": {
    "ExecuteTime": {
     "end_time": "2025-03-18T14:45:34.913780Z",
     "start_time": "2025-03-18T14:45:34.898267Z"
    }
   },
   "cell_type": "code",
   "source": "matrix[0]",
   "id": "95e8125fe51d207",
   "outputs": [
    {
     "data": {
      "text/plain": [
       "array([[  0.        ,   0.        ,   0.        ,   0.        ,\n",
       "          0.        ,  96.        ,   0.        ,   0.        ,\n",
       "          0.        ,   0.        ,   0.        ,   0.        ,\n",
       "          0.        ,   0.        ,   0.        ,   0.        ,\n",
       "          0.        ,   0.        ,   0.        ,   0.        ,\n",
       "          0.        ,   0.        ,   0.        ,   0.        ,\n",
       "          0.        ,   0.        ,   0.        ],\n",
       "       [  0.        ,   0.        ,   0.        ,   0.        ,\n",
       "          0.        ,  96.        ,   0.        ,   0.        ,\n",
       "          0.        ,   0.        ,   0.        ,   0.        ,\n",
       "          0.        ,   0.        ,   0.        ,   0.        ,\n",
       "          0.        ,   0.        ,   0.        ,   0.        ,\n",
       "          0.        ,   0.        ,   0.        ,   0.        ,\n",
       "          0.        ,   0.        ,   0.        ],\n",
       "       [  0.        ,   0.        ,   0.        ,   0.        ,\n",
       "          0.        ,  96.        ,   0.        ,   0.        ,\n",
       "          0.        ,   0.        ,   0.        ,   0.        ,\n",
       "          0.        ,   0.        ,   0.        ,   0.        ,\n",
       "          0.        ,   0.        ,   0.        ,   0.        ,\n",
       "          0.        ,   0.        ,   0.        ,   0.        ,\n",
       "          0.        ,   0.        ,   0.        ],\n",
       "       [  0.        ,   0.        ,   0.        ,   0.        ,\n",
       "          0.        ,  96.        ,   0.        ,   0.        ,\n",
       "          0.        ,   0.        ,   0.        ,   0.        ,\n",
       "          0.        ,   0.        ,   0.        ,   0.        ,\n",
       "          0.        ,   0.        ,   0.        ,   0.        ,\n",
       "          0.        ,   0.        ,   0.        ,   0.        ,\n",
       "          0.        ,   0.        ,   0.        ],\n",
       "       [  0.        ,   0.        ,   0.        ,   0.        ,\n",
       "          0.        ,  96.        ,   0.        ,   0.        ,\n",
       "          0.        ,   0.        ,   0.        ,   0.        ,\n",
       "          0.        ,   0.        ,   0.        ,   0.        ,\n",
       "          0.        ,   0.        ,   0.        ,   0.        ,\n",
       "          0.        ,   0.        ,   0.        ,   0.        ,\n",
       "          0.        ,   0.        ,   0.        ],\n",
       "       [  0.        ,   0.        ,   0.        ,   0.        ,\n",
       "          0.        , 102.        ,   0.        ,   0.        ,\n",
       "          0.        ,   0.        ,   0.        ,   0.        ,\n",
       "          0.        ,   0.        ,   0.        ,   0.        ,\n",
       "          0.        ,   0.        ,   0.        ,   0.        ,\n",
       "          0.        ,   0.        ,   0.        ,   0.        ,\n",
       "          0.        ,   0.        ,   0.        ],\n",
       "       [  0.        ,   0.        ,   0.        ,   0.        ,\n",
       "          0.        ,  96.        ,   0.        ,   0.        ,\n",
       "          0.        ,   0.        ,   0.        ,   0.        ,\n",
       "          0.        ,   0.        ,   0.        ,   0.        ,\n",
       "          0.        ,   0.        ,   0.        ,   0.        ,\n",
       "          0.        ,   0.        ,   0.        ,   0.        ,\n",
       "          0.        ,   0.        ,   0.        ],\n",
       "       [  0.        ,   0.        ,   0.        ,   0.        ,\n",
       "          0.        ,  96.        ,   0.        ,   0.        ,\n",
       "          0.        ,   0.        ,   0.        ,   0.        ,\n",
       "          0.        ,   0.        ,   0.        ,   0.        ,\n",
       "          0.        ,   0.        ,   0.        ,   0.        ,\n",
       "          0.        ,   0.        ,   0.        ,   0.        ,\n",
       "          0.        ,   0.        ,   0.        ],\n",
       "       [  0.        ,   0.        ,   0.        ,   0.        ,\n",
       "          0.        ,  96.        ,   0.        ,   0.        ,\n",
       "          0.        ,   0.        ,   0.        ,   0.        ,\n",
       "          0.        ,   0.        ,   0.        ,   0.        ,\n",
       "          0.        ,   0.        ,   0.        ,   0.        ,\n",
       "          0.        ,   0.        ,   0.        ,   0.        ,\n",
       "          0.        ,   0.        ,   0.        ],\n",
       "       [  0.        ,   0.        ,   0.        ,   0.        ,\n",
       "          0.        ,  96.        ,   0.        ,   0.        ,\n",
       "          0.        ,   0.        ,   0.        ,   0.        ,\n",
       "          0.        ,   0.        ,   0.        ,   0.        ,\n",
       "          0.        ,   0.        ,   0.        ,   0.        ,\n",
       "          0.        ,   0.        ,   0.        ,   0.        ,\n",
       "          0.        ,   0.        ,   0.        ],\n",
       "       [  0.        ,   0.        ,   0.        ,   0.        ,\n",
       "          0.        ,  96.        ,   0.        ,   0.        ,\n",
       "          0.        ,   0.        ,   0.        ,   0.        ,\n",
       "          0.        ,   0.        ,   0.        ,   0.        ,\n",
       "          0.        ,   0.        ,   0.        ,   0.        ,\n",
       "          0.        ,   0.        ,   0.        ,   0.        ,\n",
       "          0.        ,   0.        ,   0.        ],\n",
       "       [  0.        ,   0.        ,   0.        ,   0.        ,\n",
       "          0.        ,  86.33333333,   0.        ,   0.        ,\n",
       "          0.        ,   0.        ,   0.        ,   0.        ,\n",
       "          0.        ,   0.        ,   0.        ,   0.        ,\n",
       "          0.        ,   0.        ,   0.        ,   0.        ,\n",
       "          0.        ,   0.        ,   0.        ,   0.        ,\n",
       "          0.        ,   0.        ,   0.        ]])"
      ]
     },
     "execution_count": 25,
     "metadata": {},
     "output_type": "execute_result"
    }
   ],
   "execution_count": 25
  },
  {
   "metadata": {
    "ExecuteTime": {
     "end_time": "2025-03-18T14:45:35.955441Z",
     "start_time": "2025-03-18T14:45:35.949193Z"
    }
   },
   "cell_type": "code",
   "source": [
    "labels_path = f\"data/g1g2_samples/most_common_dataset/labels.pkl\"\n",
    "labels = load_pickle(labels_path)\n",
    "print(labels.shape)"
   ],
   "id": "84b70a75a62f69de",
   "outputs": [
    {
     "name": "stdout",
     "output_type": "stream",
     "text": [
      "Loading data from data/g1g2_samples/most_common_dataset/labels.pkl...\n",
      "Data successfully loaded from data/g1g2_samples/most_common_dataset/labels.pkl\n",
      "(12250,)\n"
     ]
    }
   ],
   "execution_count": 26
  },
  {
   "metadata": {},
   "cell_type": "markdown",
   "source": [
    "## MIPHA implementation\n",
    "### Building the model\n",
    "\n",
    "In the following cell, we build a MIPHA model using components provided in `implementations/components/`"
   ],
   "id": "36b9af4fb78a4a72"
  },
  {
   "metadata": {
    "ExecuteTime": {
     "end_time": "2025-03-18T14:55:40.513281Z",
     "start_time": "2025-03-18T14:55:40.502822Z"
    }
   },
   "cell_type": "code",
   "source": [
    "from implementations.components.feature_extractors.pass_through_feature_extractor import PassThroughFeatureExtractor\n",
    "from implementations.components.evaluators.classification_evaluator import ClassificationEvaluator\n",
    "from sklearn.preprocessing import StandardScaler\n",
    "from implementations.components.kernels.simple_data_processing_kernel import SimpleDataProcessingKernel\n",
    "from imblearn.over_sampling import RandomOverSampler\n",
    "from sklearn.ensemble import RandomForestClassifier\n",
    "from implementations.components.aggregators.horizontal_stack_aggregator import HorizontalStackAggregator\n",
    "\n",
    "RANDOM_SEED = 42  # ensures some random operations are reproducible\n",
    "\n",
    "\n",
    "def setup_components(n_timesteps, n_features):\n",
    "    \"\"\"\n",
    "    Returns all components of the MIPHA model in a dictionary.\n",
    "    This example function creates a model with:\n",
    "    - Pass through feature extractors (no feature extraction)\n",
    "    - Horizontal stack aggregator (simple stacking of features)\n",
    "    - Random forest Kernel (machine learning model)\n",
    "    - Classification Evaluator (returns common evaluation metrics)\n",
    "\n",
    "    To create another MIPHA model, one can change the way components are set up below.\n",
    "    \"\"\"\n",
    "    print(\"Setting up MIPHA components...\")\n",
    "    model_input_shape = (n_timesteps, n_features)\n",
    "\n",
    "    print(f\"Computed model input shape: {model_input_shape}\")\n",
    "\n",
    "    # Feature extractors\n",
    "    feature_extractors = [\n",
    "        PassThroughFeatureExtractor(\n",
    "            component_name=\"lab_extractor\",\n",
    "            managed_data_types=[\"laboratory\"],\n",
    "        ),\n",
    "        PassThroughFeatureExtractor(\n",
    "            component_name=\"demographics_extractor\",\n",
    "            managed_data_types=[\"demographics\"],\n",
    "        )\n",
    "    ]\n",
    "\n",
    "    # Aggregator\n",
    "    # ⚠️ only set always_flatten to True if the Kernel requires 2D data!\n",
    "    # This is the case here with RandomForestClassifier, it would be different with certain neural networks\n",
    "    aggregator = HorizontalStackAggregator(always_flatten=True)\n",
    "\n",
    "    # Kernel\n",
    "    kernel = SimpleDataProcessingKernel(\n",
    "        model=RandomForestClassifier,\n",
    "        n_estimators=100,  # Number of trees in the forest\n",
    "        max_depth=10,  # Maximum tree depth\n",
    "        min_samples_split=5,  # Minimum number of samples required to split a node\n",
    "        min_samples_leaf=5,  # Minimum number of samples required to be at a leaf node\n",
    "        max_features='sqrt',  # Use the square root of the number of features\n",
    "        bootstrap=True,  # Use bootstrap sampling\n",
    "        class_weight='balanced',\n",
    "        verbose=1,\n",
    "        random_state=RANDOM_SEED,\n",
    "        component_name=None,  # default params\n",
    "        imputer=None,  # imputation is already done when data sources are loaded\n",
    "        resampler=RandomOverSampler(random_state=RANDOM_SEED, sampling_strategy=0.5),\n",
    "        scaler=StandardScaler(),\n",
    "    )\n",
    "\n",
    "    # Evaluator\n",
    "    evaluator = ClassificationEvaluator()\n",
    "\n",
    "    return {\n",
    "        \"feature_extractors\": feature_extractors,\n",
    "        \"aggregator\": aggregator,\n",
    "        \"model\": kernel,\n",
    "        \"evaluator\": evaluator,\n",
    "    }"
   ],
   "id": "ae02cad45e43ef4b",
   "outputs": [],
   "execution_count": 43
  },
  {
   "metadata": {},
   "cell_type": "markdown",
   "source": "In the next cell, we define a utility function to run a MIPHA model based on the previous setup.",
   "id": "fa032de2dcbf8176"
  },
  {
   "metadata": {
    "ExecuteTime": {
     "end_time": "2025-03-18T14:55:50.448360Z",
     "start_time": "2025-03-18T14:55:50.438661Z"
    }
   },
   "cell_type": "code",
   "source": [
    "from datetime import datetime\n",
    "from mipha.framework import MiphaPredictor\n",
    "\n",
    "\n",
    "def run_mipha(\n",
    "        setup_components_func,\n",
    "        data_sources_train,\n",
    "        data_sources_test,\n",
    "        labels_train,\n",
    "        labels_test,\n",
    "        fit_parameters,\n",
    "        threshold=0.5,\n",
    "        save_results=None,\n",
    "        save_model=None,\n",
    "        save_y=None,\n",
    "        experiment_name=None,\n",
    "):\n",
    "    \"\"\"\n",
    "    Train, test and evaluate the MIPHA model using the given configuration on the given data sources. Model, results and outputs can be saved if optional parameters are saved.\n",
    "    :param setup_components_func: function called to set up MIPHA components\n",
    "    :param data_sources_train: data sources used for training\n",
    "    :param data_sources_test: data sources used for testing\n",
    "    :param labels_train: labels used for training\n",
    "    :param labels_test: labels used for testing\n",
    "    :param fit_parameters: parameters to pass to the fit function\n",
    "    :param threshold: threshold used to evaluate predictions\n",
    "    :param save_results: file to save the results to\n",
    "    :param save_model: file to save the trained MIPHA model to\n",
    "    :param save_y: path to save y_pred, y_pred_classes and labels_test to\n",
    "    :param experiment_name: prefix used to name files generated if save_y is set\n",
    "    :return:\n",
    "    \"\"\"\n",
    "\n",
    "    # Retrieving data shape\n",
    "    first_matrix = data_sources_train[0].data\n",
    "    n_timesteps, n_features = first_matrix.shape[1], first_matrix.shape[2]\n",
    "\n",
    "    # Setting up the model\n",
    "    components = setup_components_func(n_timesteps, n_features)\n",
    "    mipha = MiphaPredictor(\n",
    "        feature_extractors=components['feature_extractors'],\n",
    "        aggregator=components['aggregator'],\n",
    "        model=components['model'],\n",
    "        evaluator=components['evaluator'],\n",
    "    )\n",
    "\n",
    "    # Fitting the model\n",
    "    mipha.fit(\n",
    "        data_sources=data_sources_train,\n",
    "        train_labels=labels_train,\n",
    "        **fit_parameters,\n",
    "    )\n",
    "\n",
    "    if save_model:\n",
    "        mipha.save(save_model)\n",
    "\n",
    "    # Using the evaluator to collect results\n",
    "    mipha.evaluate(\n",
    "        data_sources=data_sources_test,\n",
    "        test_labels=labels_test,\n",
    "        threshold=threshold,\n",
    "    )\n",
    "\n",
    "    # Saving artifacts\n",
    "    if save_results:\n",
    "        mipha.evaluator.save_metrics_to_json(save_results)\n",
    "    mipha.evaluator.display_results()\n",
    "\n",
    "    if save_y:\n",
    "        y_pred = mipha.evaluator.y_pred\n",
    "        y_pred_classes = mipha.evaluator.y_pred_classes\n",
    "\n",
    "        save_to_file(y_pred, os.path.join(save_y, experiment_name + \"_y_pred.pkl\"))\n",
    "        save_to_file(y_pred_classes, os.path.join(save_y, experiment_name + \"_y_pred_classes.pkl\"))\n",
    "        save_to_file(labels_test, os.path.join(save_y, experiment_name + \"_y_test.pkl\"))\n",
    "\n",
    "    print(f\"Computation finished at {datetime.now()}\")"
   ],
   "id": "44fdd7949f8b5b82",
   "outputs": [],
   "execution_count": 44
  },
  {
   "metadata": {},
   "cell_type": "markdown",
   "source": [
    "## Running the implementation\n",
    "\n",
    "### Creating data sources\n",
    "\n",
    "In order to run the implementation, data needs to be formatted as data sources. This is a simple process, but it is necessary.\n",
    "Besides, we will split the data into a training and test sets."
   ],
   "id": "9dbd6560d91ba164"
  },
  {
   "metadata": {
    "ExecuteTime": {
     "end_time": "2025-03-18T14:55:51.143376Z",
     "start_time": "2025-03-18T14:55:51.114544Z"
    }
   },
   "cell_type": "code",
   "source": [
    "from sklearn.model_selection import train_test_split\n",
    "\n",
    "# Train-test split, keep 20% for test\n",
    "x_train, x_test, y_train, y_test = train_test_split(\n",
    "    matrix, labels, test_size=0.2, random_state=RANDOM_SEED\n",
    ")"
   ],
   "id": "b152f22f18c3f2a7",
   "outputs": [],
   "execution_count": 45
  },
  {
   "metadata": {
    "ExecuteTime": {
     "end_time": "2025-03-18T14:55:51.651068Z",
     "start_time": "2025-03-18T14:55:51.643604Z"
    }
   },
   "cell_type": "code",
   "source": [
    "from mipha.framework import DataSource\n",
    "\n",
    "data_source_train = DataSource(\n",
    "    data=x_train,\n",
    "    data_type=\"laboratory\",  # make sure this corresponds to the types handled by feature extractors\n",
    "    name=\"most_common_analyses_data_source_train\",\n",
    ")\n",
    "\n",
    "data_source_test = DataSource(\n",
    "    data=x_test,\n",
    "    data_type=\"laboratory\",\n",
    "    name=\"most_common_analyses_data_source_test\",\n",
    ")"
   ],
   "id": "28c08ed0be01142a",
   "outputs": [],
   "execution_count": 46
  },
  {
   "metadata": {
    "ExecuteTime": {
     "end_time": "2025-03-18T14:55:54.910408Z",
     "start_time": "2025-03-18T14:55:52.160591Z"
    }
   },
   "cell_type": "code",
   "source": [
    "results_save_path = f\"out/results/example_implementation.json\"\n",
    "\n",
    "run_mipha(\n",
    "    setup_components_func=setup_components,\n",
    "    data_sources_train=[data_source_train], # given as a list because there can be several\n",
    "    data_sources_test= [data_source_test],\n",
    "    labels_train=y_train,\n",
    "    labels_test=y_test,\n",
    "    fit_parameters={}, # fed into the kernel, none in this case\n",
    "    threshold=0.5,\n",
    "    save_results=None,\n",
    ")"
   ],
   "id": "8ad08592ee237b83",
   "outputs": [
    {
     "name": "stdout",
     "output_type": "stream",
     "text": [
      "Setting up MIPHA components...\n",
      "Computed model input shape: (12, 27)\n",
      "Fitting the model...\n",
      "Extracting features from data sources...\n",
      "Feature extraction complete!\n",
      "The last feature extraction can be accessed by using MiphaPredictor.last_computed_features.\n",
      "\n",
      "Aggregating features from data sources...\n",
      "Aggregation complete!\n",
      "\n",
      "[SimpleDataProcessingKernel_6e3991f8-08e9-4b0c-a600-d00d0838bcd5] Processing train data... (shapes: x (9800, 324), y (9800,))\n",
      "\n",
      "[SimpleDataProcessingKernel_6e3991f8-08e9-4b0c-a600-d00d0838bcd5] Train data processed (shapes: x (13788, 324), y (13788,))\n"
     ]
    },
    {
     "name": "stderr",
     "output_type": "stream",
     "text": [
      "[Parallel(n_jobs=1)]: Done  49 tasks      | elapsed:    1.0s\n"
     ]
    },
    {
     "name": "stdout",
     "output_type": "stream",
     "text": [
      "Model fit successfully!\n",
      "\n",
      "Extracting features from data sources...\n",
      "Feature extraction complete!\n",
      "The last feature extraction can be accessed by using MiphaPredictor.last_computed_features.\n",
      "\n",
      "Aggregating features from data sources...\n",
      "Aggregation complete!\n",
      "\n",
      "[SimpleDataProcessingKernel_6e3991f8-08e9-4b0c-a600-d00d0838bcd5] Processing test data... (shape: x (2450, 324))\n",
      "[SimpleDataProcessingKernel_6e3991f8-08e9-4b0c-a600-d00d0838bcd5]Test data processed (shape: x (2450, 324))\n",
      "CLASSIFICATION REPORT  ---------\n",
      "              precision    recall  f1-score      support\n",
      "0              0.992301  0.958443  0.975078  2286.000000\n",
      "1              0.607438  0.896341  0.724138   164.000000\n",
      "accuracy       0.954286  0.954286  0.954286     0.954286\n",
      "macro avg      0.799869  0.927392  0.849608  2450.000000\n",
      "weighted avg   0.966538  0.954286  0.958280  2450.000000\n",
      "\n",
      "CONFUSION MATRIX  --------------\n"
     ]
    },
    {
     "name": "stderr",
     "output_type": "stream",
     "text": [
      "[Parallel(n_jobs=1)]: Done  49 tasks      | elapsed:    0.0s\n"
     ]
    },
    {
     "data": {
      "text/plain": [
       "<Figure size 1500x500 with 4 Axes>"
      ],
      "image/png": "[encoded data removed]"
     },
     "metadata": {},
     "output_type": "display_data"
    },
    {
     "name": "stdout",
     "output_type": "stream",
     "text": [
      "\n",
      "PRECISION-RECALL CURVE ---------\n"
     ]
    },
    {
     "data": {
      "text/plain": [
       "<Figure size 1000x800 with 1 Axes>"
      ],
      "image/png": "[encoded data removed]"
     },
     "metadata": {},
     "output_type": "display_data"
    },
    {
     "name": "stdout",
     "output_type": "stream",
     "text": [
      "Computation finished at 2025-03-18 15:55:54.906884\n"
     ]
    }
   ],
   "execution_count": 47
  },
  {
   "metadata": {
    "ExecuteTime": {
     "end_time": "2025-03-18T14:53:21.525170Z",
     "start_time": "2025-03-18T14:53:21.523012Z"
    }
   },
   "cell_type": "code",
   "source": "",
   "id": "45a213c08b4e55ff",
   "outputs": [],
   "execution_count": null
  },
  {
   "metadata": {},
   "cell_type": "code",
   "outputs": [],
   "execution_count": null,
   "source": "",
   "id": "2ba5a7af97e41f82"
  }
 ],
 "metadata": {
  "kernelspec": {
   "display_name": "Python 3",
   "language": "python",
   "name": "python3"
  },
  "language_info": {
   "codemirror_mode": {
    "name": "ipython",
    "version": 2
   },
   "file_extension": ".py",
   "mimetype": "text/x-python",
   "name": "python",
   "nbconvert_exporter": "python",
   "pygments_lexer": "ipython2",
   "version": "2.7.6"
  }
 },
 "nbformat": 4,
 "nbformat_minor": 5
}
