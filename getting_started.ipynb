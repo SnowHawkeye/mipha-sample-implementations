{
 "cells": [
  {
   "metadata": {},
   "cell_type": "markdown",
   "source": [
    "# Getting started\n",
    "\n",
    "This notebook contains code samples to show the usage of the data and MIPHA implementations contained in this repository."
   ],
   "id": "f1a3896406c3a8ca"
  },
  {
   "metadata": {},
   "cell_type": "markdown",
   "source": "## Installing requirements",
   "id": "f403bad57af6f160"
  },
  {
   "metadata": {
    "ExecuteTime": {
     "end_time": "2025-03-18T13:12:39.812445Z",
     "start_time": "2025-03-18T13:12:39.807433Z"
    }
   },
   "cell_type": "code",
   "source": "",
   "id": "bb7be632d5a2256b",
   "outputs": [],
   "execution_count": null
  },
  {
   "metadata": {},
   "cell_type": "markdown",
   "source": [
    "## Datasets\n",
    "\n",
    "### Unzipping data\n",
    "The data was zipped for sharing over git, as the unzipped files are bigger than the recommended size. In total, the provided datasets should take under 150MB disk space.\n",
    "Execute the following cells to unpack the data from `g1g2_samples.zip` into the `data/` directory."
   ],
   "id": "7ad3cdb76ce54b87"
  },
  {
   "metadata": {
    "ExecuteTime": {
     "end_time": "2025-03-18T13:14:47.326100Z",
     "start_time": "2025-03-18T13:14:47.276762Z"
    }
   },
   "cell_type": "code",
   "source": [
    "import zipfile\n",
    "import os\n",
    "\n",
    "def unzip_file(zip_path, extract_to):\n",
    "    \"\"\"Unzips a file to the specified directory.\"\"\"\n",
    "    os.makedirs(extract_to, exist_ok=True)  # Ensure the output directory exists\n",
    "    with zipfile.ZipFile(zip_path, 'r') as zip_ref:\n",
    "        zip_ref.extractall(extract_to)\n",
    "        print(f\"Data extracted to {extract_to}.\")"
   ],
   "id": "37406cd4da4c90c9",
   "outputs": [],
   "execution_count": 1
  },
  {
   "metadata": {
    "ExecuteTime": {
     "end_time": "2025-03-18T13:14:48.584830Z",
     "start_time": "2025-03-18T13:14:48.299715Z"
    }
   },
   "cell_type": "code",
   "source": "unzip_file(\"data/g1g2_samples.zip\", \"data\")",
   "id": "e4421ecb2b345ada",
   "outputs": [],
   "execution_count": 2
  },
  {
   "metadata": {},
   "cell_type": "markdown",
   "source": [
    "### Opening data\n",
    "Each matrix is stored as a pickle file. All the given data sources correspond to 3D data of shape `(n_samples, n_timesteps, n_features)`.\n",
    "- `n_samples`: number of records in the data source.\n",
    "- `n_timesteps`: number of rows in each matrix (e.g. each row corresponds to one month).\n",
    "- `n_features`: number of columns in each matrix (e.g. each column corresponds to the results of one analysis over `n_timesteps` months).\n"
   ],
   "id": "606e699bddbafb9c"
  },
  {
   "metadata": {
    "ExecuteTime": {
     "end_time": "2025-03-18T13:19:49.995192Z",
     "start_time": "2025-03-18T13:19:49.980931Z"
    }
   },
   "cell_type": "code",
   "source": [
    "import pickle\n",
    "\n",
    "def load_pickle(filename):\n",
    "    \"\"\"\n",
    "    :param filename: file to load data from\n",
    "    \"\"\"\n",
    "    print(f\"Loading data from {filename}...\")\n",
    "    with open(filename, \"rb\") as file:\n",
    "        result = pickle.load(file)\n",
    "        print(f\"Data successfully loaded from {filename}\")\n",
    "        return result"
   ],
   "id": "9db258c7aaa32be7",
   "outputs": [],
   "execution_count": 3
  },
  {
   "metadata": {
    "ExecuteTime": {
     "end_time": "2025-03-18T13:21:07.368873Z",
     "start_time": "2025-03-18T13:21:07.329708Z"
    }
   },
   "cell_type": "code",
   "source": [
    "matrix_path = f\"data/g1g2_samples/most_common_dataset/most_common_analyses.pkl\"\n",
    "matrix = load_pickle(matrix_path)\n",
    "print(matrix.shape)"
   ],
   "id": "84cbec88bb7ccbaf",
   "outputs": [
    {
     "name": "stdout",
     "output_type": "stream",
     "text": [
      "Loading data from data/g1g2_samples/most_common_dataset/most_common_analyses.pkl...\n",
      "Data successfully loaded from data/g1g2_samples/most_common_dataset/most_common_analyses.pkl\n",
      "(12250, 12, 27)\n"
     ]
    }
   ],
   "execution_count": 6
  },
  {
   "metadata": {
    "ExecuteTime": {
     "end_time": "2025-03-18T13:21:18.126906Z",
     "start_time": "2025-03-18T13:21:18.103863Z"
    }
   },
   "cell_type": "code",
   "source": "matrix[0]",
   "id": "95e8125fe51d207",
   "outputs": [
    {
     "data": {
      "text/plain": [
       "array([[  0.        ,   0.        ,   0.        ,   0.        ,\n",
       "          0.        ,  96.        ,   0.        ,   0.        ,\n",
       "          0.        ,   0.        ,   0.        ,   0.        ,\n",
       "          0.        ,   0.        ,   0.        ,   0.        ,\n",
       "          0.        ,   0.        ,   0.        ,   0.        ,\n",
       "          0.        ,   0.        ,   0.        ,   0.        ,\n",
       "          0.        ,   0.        ,   0.        ],\n",
       "       [  0.        ,   0.        ,   0.        ,   0.        ,\n",
       "          0.        ,  96.        ,   0.        ,   0.        ,\n",
       "          0.        ,   0.        ,   0.        ,   0.        ,\n",
       "          0.        ,   0.        ,   0.        ,   0.        ,\n",
       "          0.        ,   0.        ,   0.        ,   0.        ,\n",
       "          0.        ,   0.        ,   0.        ,   0.        ,\n",
       "          0.        ,   0.        ,   0.        ],\n",
       "       [  0.        ,   0.        ,   0.        ,   0.        ,\n",
       "          0.        ,  96.        ,   0.        ,   0.        ,\n",
       "          0.        ,   0.        ,   0.        ,   0.        ,\n",
       "          0.        ,   0.        ,   0.        ,   0.        ,\n",
       "          0.        ,   0.        ,   0.        ,   0.        ,\n",
       "          0.        ,   0.        ,   0.        ,   0.        ,\n",
       "          0.        ,   0.        ,   0.        ],\n",
       "       [  0.        ,   0.        ,   0.        ,   0.        ,\n",
       "          0.        ,  96.        ,   0.        ,   0.        ,\n",
       "          0.        ,   0.        ,   0.        ,   0.        ,\n",
       "          0.        ,   0.        ,   0.        ,   0.        ,\n",
       "          0.        ,   0.        ,   0.        ,   0.        ,\n",
       "          0.        ,   0.        ,   0.        ,   0.        ,\n",
       "          0.        ,   0.        ,   0.        ],\n",
       "       [  0.        ,   0.        ,   0.        ,   0.        ,\n",
       "          0.        ,  96.        ,   0.        ,   0.        ,\n",
       "          0.        ,   0.        ,   0.        ,   0.        ,\n",
       "          0.        ,   0.        ,   0.        ,   0.        ,\n",
       "          0.        ,   0.        ,   0.        ,   0.        ,\n",
       "          0.        ,   0.        ,   0.        ,   0.        ,\n",
       "          0.        ,   0.        ,   0.        ],\n",
       "       [  0.        ,   0.        ,   0.        ,   0.        ,\n",
       "          0.        , 102.        ,   0.        ,   0.        ,\n",
       "          0.        ,   0.        ,   0.        ,   0.        ,\n",
       "          0.        ,   0.        ,   0.        ,   0.        ,\n",
       "          0.        ,   0.        ,   0.        ,   0.        ,\n",
       "          0.        ,   0.        ,   0.        ,   0.        ,\n",
       "          0.        ,   0.        ,   0.        ],\n",
       "       [  0.        ,   0.        ,   0.        ,   0.        ,\n",
       "          0.        ,  96.        ,   0.        ,   0.        ,\n",
       "          0.        ,   0.        ,   0.        ,   0.        ,\n",
       "          0.        ,   0.        ,   0.        ,   0.        ,\n",
       "          0.        ,   0.        ,   0.        ,   0.        ,\n",
       "          0.        ,   0.        ,   0.        ,   0.        ,\n",
       "          0.        ,   0.        ,   0.        ],\n",
       "       [  0.        ,   0.        ,   0.        ,   0.        ,\n",
       "          0.        ,  96.        ,   0.        ,   0.        ,\n",
       "          0.        ,   0.        ,   0.        ,   0.        ,\n",
       "          0.        ,   0.        ,   0.        ,   0.        ,\n",
       "          0.        ,   0.        ,   0.        ,   0.        ,\n",
       "          0.        ,   0.        ,   0.        ,   0.        ,\n",
       "          0.        ,   0.        ,   0.        ],\n",
       "       [  0.        ,   0.        ,   0.        ,   0.        ,\n",
       "          0.        ,  96.        ,   0.        ,   0.        ,\n",
       "          0.        ,   0.        ,   0.        ,   0.        ,\n",
       "          0.        ,   0.        ,   0.        ,   0.        ,\n",
       "          0.        ,   0.        ,   0.        ,   0.        ,\n",
       "          0.        ,   0.        ,   0.        ,   0.        ,\n",
       "          0.        ,   0.        ,   0.        ],\n",
       "       [  0.        ,   0.        ,   0.        ,   0.        ,\n",
       "          0.        ,  96.        ,   0.        ,   0.        ,\n",
       "          0.        ,   0.        ,   0.        ,   0.        ,\n",
       "          0.        ,   0.        ,   0.        ,   0.        ,\n",
       "          0.        ,   0.        ,   0.        ,   0.        ,\n",
       "          0.        ,   0.        ,   0.        ,   0.        ,\n",
       "          0.        ,   0.        ,   0.        ],\n",
       "       [  0.        ,   0.        ,   0.        ,   0.        ,\n",
       "          0.        ,  96.        ,   0.        ,   0.        ,\n",
       "          0.        ,   0.        ,   0.        ,   0.        ,\n",
       "          0.        ,   0.        ,   0.        ,   0.        ,\n",
       "          0.        ,   0.        ,   0.        ,   0.        ,\n",
       "          0.        ,   0.        ,   0.        ,   0.        ,\n",
       "          0.        ,   0.        ,   0.        ],\n",
       "       [  0.        ,   0.        ,   0.        ,   0.        ,\n",
       "          0.        ,  86.33333333,   0.        ,   0.        ,\n",
       "          0.        ,   0.        ,   0.        ,   0.        ,\n",
       "          0.        ,   0.        ,   0.        ,   0.        ,\n",
       "          0.        ,   0.        ,   0.        ,   0.        ,\n",
       "          0.        ,   0.        ,   0.        ,   0.        ,\n",
       "          0.        ,   0.        ,   0.        ]])"
      ]
     },
     "execution_count": 7,
     "metadata": {},
     "output_type": "execute_result"
    }
   ],
   "execution_count": 7
  },
  {
   "metadata": {},
   "cell_type": "code",
   "outputs": [],
   "execution_count": null,
   "source": "",
   "id": "34e376e58f410264"
  }
 ],
 "metadata": {
  "kernelspec": {
   "display_name": "Python 3",
   "language": "python",
   "name": "python3"
  },
  "language_info": {
   "codemirror_mode": {
    "name": "ipython",
    "version": 2
   },
   "file_extension": ".py",
   "mimetype": "text/x-python",
   "name": "python",
   "nbconvert_exporter": "python",
   "pygments_lexer": "ipython2",
   "version": "2.7.6"
  }
 },
 "nbformat": 4,
 "nbformat_minor": 5
}
